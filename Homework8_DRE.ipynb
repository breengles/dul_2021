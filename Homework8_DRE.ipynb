{
  "cells": [
    {
      "cell_type": "markdown",
      "metadata": {
        "colab_type": "text",
        "id": "view-in-github"
      },
      "source": [
        "<a href=\"https://colab.research.google.com/github/GrigoryBartosh/dul_2021/blob/main/Homework/hw8/Homework8_DRE.ipynb\" target=\"_parent\"><img src=\"https://colab.research.google.com/assets/colab-badge.svg\" alt=\"Open In Colab\"/></a>"
      ]
    },
    {
      "cell_type": "code",
      "execution_count": 1,
      "metadata": {
        "id": "ZHWosWrbpO5Y"
      },
      "outputs": [],
      "source": [
        "from utils.hw8_utils import *"
      ]
    },
    {
      "cell_type": "markdown",
      "metadata": {
        "id": "WGaJ2yY4bGWo"
      },
      "source": [
        "# Question 1. KMM"
      ]
    },
    {
      "cell_type": "markdown",
      "metadata": {
        "id": "9puPlBKicfOq"
      },
      "source": [
        "## Notations from practice\n",
        "\n",
        "*   $p_{nu}(x)$ - pdf of numerator\n",
        "*   $p_{de}(x)$ - pdf of denominator\n",
        "*   $r(x)=\\frac{p_{nu}(x)}{p_{de}(x)}$ - density ratio\n",
        "*   $p_{nu}^*, p_{du}^*, r^*$ - estimatinos of respective functions\n",
        "*   $\\{x^{nu}_i\\}_{i=1}^{n_{nu}}$ - sample from numerator distribution\n",
        "*   $\\{x^{de}_i\\}_{i=1}^{n_{de}}$ - sample from denominator distribution\n",
        "\n",
        "\n",
        "\n",
        "## KMM objective\n",
        "\n",
        "Here we will implement Kernel Mean Matching (KMM) method for density ratio estimation. The basic idea of KMM is to 'match' expections of kernel function:\n",
        "\n",
        "$$argmin_{r^*} ||E_{p_{de}}r^*(x)K(\\cdot, x) - E_{p_{nu}}K(\\cdot, x)||$$\n",
        "\n",
        "Where $K(x, x') = exp(-\\frac{|x-y|^2}{2\\sigma^2})$. Emperical variant of this objective can be rewritten as follows:\n",
        "\n",
        "$$argmin_{r^*} \\frac{1}{n_{de}^2} (r^*_{de})^t K_{de, de} r^*_{de} - \\frac{2}{n_{nu}n_{de} }(r^*_{de})^t K_{de, nu}1_{n_{nu}}$$\n",
        "\n",
        "Where\n",
        "\n",
        "\n",
        "*   $r^*_{de}$ - vector with $(r^*_{de})_i=r^*(x^{de}_i)$\n",
        "*   $K_{de, de}$ - matrix with $(K_{de, de})_{i, j} = K(x^{de}_i, x^{de}_j)$\n",
        "*   $K_{de, nu}$ - matrix with $(K_{de, nu})_{i, j} = K(x^{de}_i, x^{nu}_j)$\n",
        "*   $1_{n_{nu}}$ - vector with $n_{nu}$ ones\n",
        "\n",
        "\n",
        "## You will provide these deliverables\n",
        "Density ratio on $[-2, 2]$.\n"
      ]
    },
    {
      "cell_type": "code",
      "execution_count": 2,
      "metadata": {},
      "outputs": [],
      "source": [
        "from utils.hw8_model import MomentMatchDRE\n",
        "from torch.utils.data import DataLoader"
      ]
    },
    {
      "cell_type": "code",
      "execution_count": 3,
      "metadata": {
        "id": "4-jdrQdePnCk"
      },
      "outputs": [],
      "source": [
        "def q1(data_nu, data_de, batch_size=512, device=\"cuda\"):\n",
        "    \"\"\"\n",
        "    data_nu - An [n_nu] dataset with samples from numerator's distribution\n",
        "    data_de - An [n_de] dataset with samples from denominators's distribution\n",
        "\n",
        "    Returns\n",
        "    - a np.array with density ratios of np.linspace(-2., 2, num=100)\n",
        "    \"\"\"\n",
        "    loader_nu = DataLoader(data_nu, batch_size=batch_size, shuffle=True)\n",
        "    loader_de = DataLoader(data_de, batch_size=batch_size, shuffle=True)\n",
        "\n",
        "    model = MomentMatchDRE().to(device)\n",
        "    model.fit(loader_nu, loader_de)\n",
        "    \n",
        "    # you need to calculate density ratio on x and return it\n",
        "    x = torch.tensor(np.linspace(-2.0, 2.0, num=100).reshape(-1, 1), dtype=torch.float32, device=device)\n",
        "    return model.predict(x)"
      ]
    },
    {
      "cell_type": "code",
      "execution_count": 4,
      "metadata": {
        "colab": {
          "base_uri": "https://localhost:8080/",
          "height": 282
        },
        "id": "4uSiYdu--V5G",
        "outputId": "b2ff12b4-ae92-4bca-9838-d331edefeecc"
      },
      "outputs": [],
      "source": [
        "# q1_results(q1)"
      ]
    },
    {
      "cell_type": "markdown",
      "metadata": {
        "id": "uBag5rcAckn8"
      },
      "source": [
        "# Question 2. AVB"
      ]
    },
    {
      "cell_type": "markdown",
      "metadata": {
        "id": "-V1V1syvbINX"
      },
      "source": [
        "Here we will implement [Adversairal Variational Bayes](https://dl.acm.org/doi/pdf/10.5555/3305890.3305928).\n",
        "\n",
        "You may experiment with different hyperparameters and architecture designs, but the following designs for the AVB architecture may be useful.\n",
        "\n",
        "```\n",
        "Classifier (T)\n",
        "    Conv2d(1, 32, 3, 1, 1), \n",
        "    ReLU(),\n",
        "    Conv2d(32, 64, 3, 2, 1),\n",
        "    ReLU(), \n",
        "    Conv2d(64, 128, 3, 2, 1), \n",
        "    ReLU(), \n",
        "    Conv2d(128, 128, 3, 2, 1), \n",
        "    ReLU(),\n",
        "    # reshape + add latent\n",
        "    Linear(4 * 4 * 128 + ld, hd), \n",
        "    ReLU(),\n",
        "    Linear(hd, hd), \n",
        "    ReLU(),\n",
        "    Linear(hd, 1)\n",
        "\n",
        "\n",
        "Encoder (E)\n",
        "\n",
        "    Conv2d(1, 32, 3, 1, 1), \n",
        "    ReLU(),\n",
        "    Conv2d(32, 64, 3, 2, 1),\n",
        "    ReLU(), \n",
        "    Conv2d(64, 128, 3, 2, 1), \n",
        "    ReLU(), \n",
        "    Conv2d(128, 128, 3, 2, 1), \n",
        "    ReLU(), \n",
        "    # add noise + reshape\n",
        "    Linear(4 * 4 * 128 + nd, ld)\n",
        "\n",
        "Decoder (D)\n",
        "    ConvTranspose2d(128, 128, 3, 2, 1), \n",
        "    ReLU(), \n",
        "    ConvTranspose2d(128, 64, 4, 2, 1), \n",
        "    ReLU(), \n",
        "    ConvTranspose2d(64, 32, 4, 2, 1), \n",
        "    ReLU(), \n",
        "    Conv2d(32, 1, 3, 1, 1)\n",
        "    # reshape\n",
        "    Linear(ld, 4 * 4 * 128), \n",
        "    ReLU()\n",
        "```\n",
        "\n",
        "**Reminder.** Objective for AVB\n",
        "\n",
        "$$max_{\\theta, \\phi} E \\log p_\\theta(x|z_\\phi(x)) - T(x, z_\\phi(x))$$\n",
        "$$max_{T} E_x \\bigg(E_{q_\\phi(z|x)} \\log\\big(\\sigma (T(x, z))\\big) + E_{p(z)} \\log\\big(1 - \\sigma (T(x, z))\\big)\\bigg) $$\n",
        "\n",
        "$\\phi$ - parameters of encoder, $\\theta$ - parameters of decoder\n",
        "\n",
        "\n",
        "**You will provide the following deliverables**\n",
        "\n",
        "\n",
        "1.   Over the course of training, record the elbo and loss of the classifier T ber batch.\n",
        "2. Report the final test set performances of your final models\n",
        "3. 100 samples from your trained AVB"
      ]
    },
    {
      "cell_type": "code",
      "execution_count": 5,
      "metadata": {},
      "outputs": [],
      "source": [
        "from utils.hw8_dataset import MyDataset\n",
        "from utils.hw8_model import AVB"
      ]
    },
    {
      "cell_type": "code",
      "execution_count": 6,
      "metadata": {
        "id": "IFeqntQsUkYG"
      },
      "outputs": [],
      "source": [
        "def q2(train_data, test_data, epochs=20, batch_size=256, lr=1e-4, noise_dim=4, device=\"cuda\"):\n",
        "    \"\"\"\n",
        "    train_data - A (n_train, 28, 28, 1) uint8 numpy array of binary images with values in {0, 1}\n",
        "    Returns\n",
        "    - a (# of training iterations,) numpy array of elbo_losses evaluated every minibatch\n",
        "    - a (# of training iterations,) numpy array of classifier_losses evaluated every minibatch\n",
        "    - a torch tensor of size (100, 1, 28, 28) of samples with values in {0, 1}\n",
        "    \"\"\"\n",
        "\n",
        "    trainloader = DataLoader(MyDataset(train_data), batch_size=batch_size, shuffle=True)\n",
        "    testloader = DataLoader(MyDataset(test_data), batch_size=batch_size)\n",
        "    \n",
        "    model = AVB(noise_dim=noise_dim).to(device)\n",
        "    train_losses, test_losses = model.fit(trainloader, testloader, epochs=epochs, lr=lr)\n",
        "    \n",
        "    return train_losses[:, 0], train_losses[:, 1], test_losses[:, 0], test_losses[:, 1], model.sample(100)\n"
      ]
    },
    {
      "cell_type": "code",
      "execution_count": 7,
      "metadata": {
        "colab": {
          "base_uri": "https://localhost:8080/",
          "height": 1000
        },
        "id": "_Kvk3MMY8lH_",
        "outputId": "b97407a1-daa1-4e62-c2a7-9516e4025fd7"
      },
      "outputs": [
        {
          "name": "stderr",
          "output_type": "stream",
          "text": [
            "Training: 100%|██████████| 20/20 [04:18<00:00, 12.91s/it]  \n"
          ]
        },
        {
          "data": {
            "image/png": "[encoded data removed]",
            "text/plain": [
              "<Figure size 432x288 with 1 Axes>"
            ]
          },
          "metadata": {
            "needs_background": "light"
          },
          "output_type": "display_data"
        },
        {
          "data": {
            "image/png": "[encoded data removed]",
            "text/plain": [
              "<Figure size 720x720 with 1 Axes>"
            ]
          },
          "metadata": {
            "needs_background": "light"
          },
          "output_type": "display_data"
        }
      ],
      "source": [
        "q2_results(q2)"
      ]
    },
    {
      "cell_type": "markdown",
      "metadata": {},
      "source": [
        "Почему-то оно взрывается Оо"
      ]
    }
  ],
  "metadata": {
    "accelerator": "GPU",
    "colab": {
      "collapsed_sections": [],
      "include_colab_link": true,
      "name": "Homework8_DRE.ipynb",
      "provenance": []
    },
    "kernelspec": {
      "display_name": "Python 3",
      "name": "python3"
    },
    "language_info": {
      "codemirror_mode": {
        "name": "ipython",
        "version": 3
      },
      "file_extension": ".py",
      "mimetype": "text/x-python",
      "name": "python",
      "nbconvert_exporter": "python",
      "pygments_lexer": "ipython3",
      "version": "3.8.11"
    }
  },
  "nbformat": 4,
  "nbformat_minor": 0
}
